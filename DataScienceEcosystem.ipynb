{
 "cells": [
  {
   "cell_type": "markdown",
   "id": "e66f4f93-5558-4c96-a49b-6e32a53daa5d",
   "metadata": {},
   "source": [
    "# Data Science Tools and Ecosystem"
   ]
  },
  {
   "cell_type": "markdown",
   "id": "85a328d1-5e62-481d-ab83-53e76c895450",
   "metadata": {},
   "source": [
    "In this notebook, Data Science Tools and Ecosystem are summarized.\n"
   ]
  },
  {
   "cell_type": "markdown",
   "id": "9547749a-6690-49bd-a63f-a170d3dc7310",
   "metadata": {},
   "source": [
    "#### Some of the popular languages that Data Scientists use are:\r",
    "1. Python\n",
    "2. R\n",
    "3. SQL\n",
    "4. C++\n",
    "5. Java\n"
   ]
  },
  {
   "cell_type": "markdown",
   "id": "1853dc17-ab19-462e-9809-99c5ba35e203",
   "metadata": {},
   "source": [
    "#### Some of the commonly used libraries used by Data Scientists include:\n",
    "1. Pandas\n",
    "2. Numpy\n",
    "3. Matplotlib\n",
    "   "
   ]
  },
  {
   "cell_type": "markdown",
   "id": "ae13b767-ed7e-4454-92c7-e40b8d022e69",
   "metadata": {},
   "source": [
    "|Data Science|\n",
    "|------------|\n",
    "|Matlab|\n",
    "|Python|\n",
    "|Jupyter Notebook|"
   ]
  },
  {
   "cell_type": "markdown",
   "id": "d6b0e463-458c-4b8b-9717-65d336abd55c",
   "metadata": {},
   "source": [
    "### Below are a few examples of evaluating arithmetic expressions in Python"
   ]
  },
  {
   "cell_type": "code",
   "execution_count": 13,
   "id": "84c0bb6d-0726-4bb4-986f-fbd5ec4bba26",
   "metadata": {},
   "outputs": [
    {
     "data": {
      "text/plain": [
       "17"
      ]
     },
     "execution_count": 13,
     "metadata": {},
     "output_type": "execute_result"
    }
   ],
   "source": [
    "# This a simple arithmetic expression to mutiply then add integers\n",
    "(3*4)+5"
   ]
  },
  {
   "cell_type": "code",
   "execution_count": 19,
   "id": "06aa9caf-a9d7-44aa-ad88-9010e9d116a1",
   "metadata": {},
   "outputs": [
    {
     "data": {
      "text/plain": [
       "3.3333333333333335"
      ]
     },
     "execution_count": 19,
     "metadata": {},
     "output_type": "execute_result"
    }
   ],
   "source": [
    "# This will convert 200 minutes to hours by diving by 60\n",
    "200/60"
   ]
  },
  {
   "cell_type": "markdown",
   "id": "e1e3390d-2238-4fd4-b179-3747032b4fcc",
   "metadata": {},
   "source": [
    "__Objectives:__\n",
    "- Python\n",
    "- R\n",
    "- SQL\n",
    "- Java\n",
    "- C++"
   ]
  },
  {
   "cell_type": "markdown",
   "id": "33aaedc9-6642-468e-b08b-52bbaf58529b",
   "metadata": {},
   "source": [
    "## Author\n",
    "pathum"
   ]
  },
  {
   "cell_type": "code",
   "execution_count": null,
   "id": "5eadb8dd-e061-4d53-aa27-13286d69f451",
   "metadata": {},
   "outputs": [],
   "source": []
  }
 ],
 "metadata": {
  "kernelspec": {
   "display_name": "Python 3 (ipykernel)",
   "language": "python",
   "name": "python3"
  },
  "language_info": {
   "codemirror_mode": {
    "name": "ipython",
    "version": 3
   },
   "file_extension": ".py",
   "mimetype": "text/x-python",
   "name": "python",
   "nbconvert_exporter": "python",
   "pygments_lexer": "ipython3",
   "version": "3.12.4"
  }
 },
 "nbformat": 4,
 "nbformat_minor": 5
}
